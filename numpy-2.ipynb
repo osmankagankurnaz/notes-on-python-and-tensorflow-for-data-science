{
 "cells": [
  {
   "cell_type": "code",
   "execution_count": 3,
   "id": "6557e4cb",
   "metadata": {},
   "outputs": [],
   "source": [
    "import numpy as np"
   ]
  },
  {
   "cell_type": "code",
   "execution_count": 5,
   "id": "52fc9697",
   "metadata": {},
   "outputs": [],
   "source": [
    "my_list = np.arange(0,15)"
   ]
  },
  {
   "cell_type": "code",
   "execution_count": 6,
   "id": "4eb6e228",
   "metadata": {},
   "outputs": [
    {
     "data": {
      "text/plain": [
       "array([ 0,  1,  2,  3,  4,  5,  6,  7,  8,  9, 10, 11, 12, 13, 14])"
      ]
     },
     "execution_count": 6,
     "metadata": {},
     "output_type": "execute_result"
    }
   ],
   "source": [
    "my_list"
   ]
  },
  {
   "cell_type": "markdown",
   "id": "7b7cde5b",
   "metadata": {},
   "source": [
    "## NUMPY INDEXES"
   ]
  },
  {
   "cell_type": "code",
   "execution_count": 7,
   "id": "8c3e1c71",
   "metadata": {},
   "outputs": [
    {
     "data": {
      "text/plain": [
       "5"
      ]
     },
     "execution_count": 7,
     "metadata": {},
     "output_type": "execute_result"
    }
   ],
   "source": [
    "my_list[5]"
   ]
  },
  {
   "cell_type": "code",
   "execution_count": 8,
   "id": "79e8e47c",
   "metadata": {},
   "outputs": [
    {
     "data": {
      "text/plain": [
       "array([5, 6, 7, 8, 9])"
      ]
     },
     "execution_count": 8,
     "metadata": {},
     "output_type": "execute_result"
    }
   ],
   "source": [
    "my_list[5:10]"
   ]
  },
  {
   "cell_type": "code",
   "execution_count": 9,
   "id": "91f86b3f",
   "metadata": {},
   "outputs": [],
   "source": [
    "my_list[5:10] = 0"
   ]
  },
  {
   "cell_type": "code",
   "execution_count": 10,
   "id": "df346e9f",
   "metadata": {},
   "outputs": [
    {
     "data": {
      "text/plain": [
       "array([ 0,  1,  2,  3,  4,  0,  0,  0,  0,  0, 10, 11, 12, 13, 14])"
      ]
     },
     "execution_count": 10,
     "metadata": {},
     "output_type": "execute_result"
    }
   ],
   "source": [
    "my_list"
   ]
  },
  {
   "cell_type": "code",
   "execution_count": 12,
   "id": "c9fddc0e",
   "metadata": {},
   "outputs": [],
   "source": [
    "my_other_list = np.arange(0,24)"
   ]
  },
  {
   "cell_type": "code",
   "execution_count": 13,
   "id": "982b2aea",
   "metadata": {},
   "outputs": [
    {
     "data": {
      "text/plain": [
       "array([ 0,  1,  2,  3,  4,  5,  6,  7,  8,  9, 10, 11, 12, 13, 14, 15, 16,\n",
       "       17, 18, 19, 20, 21, 22, 23])"
      ]
     },
     "execution_count": 13,
     "metadata": {},
     "output_type": "execute_result"
    }
   ],
   "source": [
    "my_other_list"
   ]
  },
  {
   "cell_type": "code",
   "execution_count": 19,
   "id": "1a5e02d3",
   "metadata": {},
   "outputs": [],
   "source": [
    "slicing_other_list = my_other_list[5:10]"
   ]
  },
  {
   "cell_type": "code",
   "execution_count": 20,
   "id": "cc103989",
   "metadata": {},
   "outputs": [
    {
     "data": {
      "text/plain": [
       "array([5, 6, 7, 8, 9])"
      ]
     },
     "execution_count": 20,
     "metadata": {},
     "output_type": "execute_result"
    }
   ],
   "source": [
    "slicing_other_list"
   ]
  },
  {
   "cell_type": "code",
   "execution_count": 21,
   "id": "a452987a",
   "metadata": {},
   "outputs": [
    {
     "data": {
      "text/plain": [
       "array([ 0,  1,  2,  3,  4,  5,  6,  7,  8,  9, 10, 11, 12, 13, 14, 15, 16,\n",
       "       17, 18, 19, 20, 21, 22, 23])"
      ]
     },
     "execution_count": 21,
     "metadata": {},
     "output_type": "execute_result"
    }
   ],
   "source": [
    "my_other_list"
   ]
  },
  {
   "cell_type": "code",
   "execution_count": 22,
   "id": "c654b79a",
   "metadata": {},
   "outputs": [
    {
     "data": {
      "text/plain": [
       "numpy.ndarray"
      ]
     },
     "execution_count": 22,
     "metadata": {},
     "output_type": "execute_result"
    }
   ],
   "source": [
    "type(slicing_other_list)"
   ]
  },
  {
   "cell_type": "code",
   "execution_count": 23,
   "id": "80ac4e38",
   "metadata": {},
   "outputs": [
    {
     "data": {
      "text/plain": [
       "array([5, 6, 7, 8, 9])"
      ]
     },
     "execution_count": 23,
     "metadata": {},
     "output_type": "execute_result"
    }
   ],
   "source": [
    "slicing_other_list[:]"
   ]
  },
  {
   "cell_type": "code",
   "execution_count": 25,
   "id": "3e974259",
   "metadata": {},
   "outputs": [],
   "source": [
    "slicing_other_list[:] = 100"
   ]
  },
  {
   "cell_type": "code",
   "execution_count": 26,
   "id": "001a0de3",
   "metadata": {},
   "outputs": [
    {
     "data": {
      "text/plain": [
       "array([100, 100, 100, 100, 100])"
      ]
     },
     "execution_count": 26,
     "metadata": {},
     "output_type": "execute_result"
    }
   ],
   "source": [
    "slicing_other_list"
   ]
  },
  {
   "cell_type": "code",
   "execution_count": 27,
   "id": "bad6969e",
   "metadata": {},
   "outputs": [
    {
     "data": {
      "text/plain": [
       "array([  0,   1,   2,   3,   4, 100, 100, 100, 100, 100,  10,  11,  12,\n",
       "        13,  14,  15,  16,  17,  18,  19,  20,  21,  22,  23])"
      ]
     },
     "execution_count": 27,
     "metadata": {},
     "output_type": "execute_result"
    }
   ],
   "source": [
    "my_other_list"
   ]
  },
  {
   "cell_type": "code",
   "execution_count": 28,
   "id": "36cf3f08",
   "metadata": {},
   "outputs": [],
   "source": [
    "example_list = np.arange(0,24)"
   ]
  },
  {
   "cell_type": "code",
   "execution_count": 29,
   "id": "f7a3e65b",
   "metadata": {},
   "outputs": [
    {
     "data": {
      "text/plain": [
       "array([ 0,  1,  2,  3,  4,  5,  6,  7,  8,  9, 10, 11, 12, 13, 14, 15, 16,\n",
       "       17, 18, 19, 20, 21, 22, 23])"
      ]
     },
     "execution_count": 29,
     "metadata": {},
     "output_type": "execute_result"
    }
   ],
   "source": [
    "example_list"
   ]
  },
  {
   "cell_type": "code",
   "execution_count": 30,
   "id": "caac46c3",
   "metadata": {},
   "outputs": [],
   "source": [
    "example_list_copy = example_list.copy()"
   ]
  },
  {
   "cell_type": "code",
   "execution_count": 31,
   "id": "034346c0",
   "metadata": {},
   "outputs": [
    {
     "data": {
      "text/plain": [
       "array([ 0,  1,  2,  3,  4,  5,  6,  7,  8,  9, 10, 11, 12, 13, 14, 15, 16,\n",
       "       17, 18, 19, 20, 21, 22, 23])"
      ]
     },
     "execution_count": 31,
     "metadata": {},
     "output_type": "execute_result"
    }
   ],
   "source": [
    "example_list_copy"
   ]
  },
  {
   "cell_type": "code",
   "execution_count": 32,
   "id": "9463f02a",
   "metadata": {},
   "outputs": [],
   "source": [
    "slicing_example_list_copy = example_list_copy[5:10]"
   ]
  },
  {
   "cell_type": "code",
   "execution_count": 34,
   "id": "01cc9386",
   "metadata": {},
   "outputs": [
    {
     "data": {
      "text/plain": [
       "array([5, 6, 7, 8, 9])"
      ]
     },
     "execution_count": 34,
     "metadata": {},
     "output_type": "execute_result"
    }
   ],
   "source": [
    "slicing_example_list_copy"
   ]
  },
  {
   "cell_type": "code",
   "execution_count": 35,
   "id": "8f039e81",
   "metadata": {},
   "outputs": [],
   "source": [
    "slicing_example_list_copy[:] = 100"
   ]
  },
  {
   "cell_type": "code",
   "execution_count": 36,
   "id": "0913752d",
   "metadata": {},
   "outputs": [
    {
     "data": {
      "text/plain": [
       "array([100, 100, 100, 100, 100])"
      ]
     },
     "execution_count": 36,
     "metadata": {},
     "output_type": "execute_result"
    }
   ],
   "source": [
    "slicing_example_list_copy"
   ]
  },
  {
   "cell_type": "code",
   "execution_count": 37,
   "id": "cbd97956",
   "metadata": {},
   "outputs": [
    {
     "data": {
      "text/plain": [
       "array([  0,   1,   2,   3,   4, 100, 100, 100, 100, 100,  10,  11,  12,\n",
       "        13,  14,  15,  16,  17,  18,  19,  20,  21,  22,  23])"
      ]
     },
     "execution_count": 37,
     "metadata": {},
     "output_type": "execute_result"
    }
   ],
   "source": [
    "example_list_copy"
   ]
  },
  {
   "cell_type": "code",
   "execution_count": 38,
   "id": "e6669a1c",
   "metadata": {},
   "outputs": [
    {
     "data": {
      "text/plain": [
       "array([ 0,  1,  2,  3,  4,  5,  6,  7,  8,  9, 10, 11, 12, 13, 14, 15, 16,\n",
       "       17, 18, 19, 20, 21, 22, 23])"
      ]
     },
     "execution_count": 38,
     "metadata": {},
     "output_type": "execute_result"
    }
   ],
   "source": [
    "example_list"
   ]
  },
  {
   "cell_type": "markdown",
   "id": "1da3b674",
   "metadata": {},
   "source": [
    "## NUMPY MATRIX"
   ]
  },
  {
   "cell_type": "code",
   "execution_count": 42,
   "id": "041b55cd",
   "metadata": {},
   "outputs": [],
   "source": [
    "my_new_list = np.arange(0,9)"
   ]
  },
  {
   "cell_type": "code",
   "execution_count": 43,
   "id": "37f0337d",
   "metadata": {},
   "outputs": [
    {
     "data": {
      "text/plain": [
       "array([0, 1, 2, 3, 4, 5, 6, 7, 8])"
      ]
     },
     "execution_count": 43,
     "metadata": {},
     "output_type": "execute_result"
    }
   ],
   "source": [
    "my_new_list"
   ]
  },
  {
   "cell_type": "code",
   "execution_count": 44,
   "id": "a85e0212",
   "metadata": {},
   "outputs": [],
   "source": [
    "my_matrix = my_new_list.reshape(3,3)"
   ]
  },
  {
   "cell_type": "code",
   "execution_count": 45,
   "id": "b5b38aaa",
   "metadata": {},
   "outputs": [
    {
     "data": {
      "text/plain": [
       "array([[0, 1, 2],\n",
       "       [3, 4, 5],\n",
       "       [6, 7, 8]])"
      ]
     },
     "execution_count": 45,
     "metadata": {},
     "output_type": "execute_result"
    }
   ],
   "source": [
    "my_matrix"
   ]
  },
  {
   "cell_type": "code",
   "execution_count": 46,
   "id": "bf77e711",
   "metadata": {},
   "outputs": [
    {
     "data": {
      "text/plain": [
       "array([0, 1, 2])"
      ]
     },
     "execution_count": 46,
     "metadata": {},
     "output_type": "execute_result"
    }
   ],
   "source": [
    "my_matrix[0]"
   ]
  },
  {
   "cell_type": "code",
   "execution_count": 47,
   "id": "20e561ce",
   "metadata": {},
   "outputs": [
    {
     "data": {
      "text/plain": [
       "5"
      ]
     },
     "execution_count": 47,
     "metadata": {},
     "output_type": "execute_result"
    }
   ],
   "source": [
    "my_matrix[1,2]"
   ]
  },
  {
   "cell_type": "code",
   "execution_count": 48,
   "id": "e132c68a",
   "metadata": {},
   "outputs": [
    {
     "data": {
      "text/plain": [
       "array([[4, 5],\n",
       "       [7, 8]])"
      ]
     },
     "execution_count": 48,
     "metadata": {},
     "output_type": "execute_result"
    }
   ],
   "source": [
    "my_matrix[1:,1:]"
   ]
  },
  {
   "cell_type": "code",
   "execution_count": 49,
   "id": "7eaa7f72",
   "metadata": {},
   "outputs": [
    {
     "data": {
      "text/plain": [
       "array([1, 2])"
      ]
     },
     "execution_count": 49,
     "metadata": {},
     "output_type": "execute_result"
    }
   ],
   "source": [
    "my_matrix[0,1:]"
   ]
  },
  {
   "cell_type": "code",
   "execution_count": 50,
   "id": "6586927e",
   "metadata": {},
   "outputs": [
    {
     "data": {
      "text/plain": [
       "array([4, 7])"
      ]
     },
     "execution_count": 50,
     "metadata": {},
     "output_type": "execute_result"
    }
   ],
   "source": [
    "my_matrix[1:,1]"
   ]
  },
  {
   "cell_type": "code",
   "execution_count": 63,
   "id": "d7daa286",
   "metadata": {},
   "outputs": [],
   "source": [
    "my_other_new_list = np.arange(0,25)"
   ]
  },
  {
   "cell_type": "code",
   "execution_count": 64,
   "id": "3b3ef4bc",
   "metadata": {},
   "outputs": [
    {
     "data": {
      "text/plain": [
       "array([ 0,  1,  2,  3,  4,  5,  6,  7,  8,  9, 10, 11, 12, 13, 14, 15, 16,\n",
       "       17, 18, 19, 20, 21, 22, 23, 24])"
      ]
     },
     "execution_count": 64,
     "metadata": {},
     "output_type": "execute_result"
    }
   ],
   "source": [
    "my_other_new_list"
   ]
  },
  {
   "cell_type": "code",
   "execution_count": 65,
   "id": "4e08992f",
   "metadata": {},
   "outputs": [],
   "source": [
    "my_other_new_matrix = my_other_new_list.reshape(5,5)"
   ]
  },
  {
   "cell_type": "code",
   "execution_count": 67,
   "id": "d1450cc3",
   "metadata": {},
   "outputs": [
    {
     "data": {
      "text/plain": [
       "array([[ 0,  1,  2,  3,  4],\n",
       "       [ 5,  6,  7,  8,  9],\n",
       "       [10, 11, 12, 13, 14],\n",
       "       [15, 16, 17, 18, 19],\n",
       "       [20, 21, 22, 23, 24]])"
      ]
     },
     "execution_count": 67,
     "metadata": {},
     "output_type": "execute_result"
    }
   ],
   "source": [
    "my_other_new_matrix"
   ]
  },
  {
   "cell_type": "code",
   "execution_count": 70,
   "id": "ffdadbb7",
   "metadata": {},
   "outputs": [
    {
     "data": {
      "text/plain": [
       "2"
      ]
     },
     "execution_count": 70,
     "metadata": {},
     "output_type": "execute_result"
    }
   ],
   "source": [
    "my_other_new_matrix[0,2]"
   ]
  },
  {
   "cell_type": "code",
   "execution_count": 68,
   "id": "0a9bb182",
   "metadata": {},
   "outputs": [
    {
     "data": {
      "text/plain": [
       "array([[ 0,  1,  2,  3,  4],\n",
       "       [10, 11, 12, 13, 14],\n",
       "       [20, 21, 22, 23, 24]])"
      ]
     },
     "execution_count": 68,
     "metadata": {},
     "output_type": "execute_result"
    }
   ],
   "source": [
    "my_other_new_matrix[[0,2,4]]"
   ]
  },
  {
   "cell_type": "code",
   "execution_count": 71,
   "id": "27dd050c",
   "metadata": {},
   "outputs": [
    {
     "data": {
      "text/plain": [
       "array([[20, 21, 22, 23, 24],\n",
       "       [10, 11, 12, 13, 14],\n",
       "       [ 5,  6,  7,  8,  9]])"
      ]
     },
     "execution_count": 71,
     "metadata": {},
     "output_type": "execute_result"
    }
   ],
   "source": [
    "my_other_new_matrix[[4,2,1]]"
   ]
  },
  {
   "cell_type": "markdown",
   "id": "8a945883",
   "metadata": {},
   "source": [
    "## NUMPY OPERATIONS"
   ]
  },
  {
   "cell_type": "code",
   "execution_count": 79,
   "id": "65e616bc",
   "metadata": {},
   "outputs": [],
   "source": [
    "my_newest_list = np.random.randint(1,100,20)"
   ]
  },
  {
   "cell_type": "code",
   "execution_count": 80,
   "id": "a70e72bb",
   "metadata": {},
   "outputs": [
    {
     "data": {
      "text/plain": [
       "array([11, 57, 27, 15, 87, 14, 86,  8, 10, 35,  9, 35, 29, 74, 22,  9,  8,\n",
       "       51, 28,  1])"
      ]
     },
     "execution_count": 80,
     "metadata": {},
     "output_type": "execute_result"
    }
   ],
   "source": [
    "my_newest_list"
   ]
  },
  {
   "cell_type": "code",
   "execution_count": 81,
   "id": "9c882727",
   "metadata": {},
   "outputs": [
    {
     "data": {
      "text/plain": [
       "array([False,  True,  True, False,  True, False,  True, False, False,\n",
       "        True, False,  True,  True,  True, False, False, False,  True,\n",
       "        True, False])"
      ]
     },
     "execution_count": 81,
     "metadata": {},
     "output_type": "execute_result"
    }
   ],
   "source": [
    "my_newest_list > 24"
   ]
  },
  {
   "cell_type": "code",
   "execution_count": 82,
   "id": "d5264205",
   "metadata": {},
   "outputs": [],
   "source": [
    "result_list = my_newest_list > 20"
   ]
  },
  {
   "cell_type": "code",
   "execution_count": 83,
   "id": "0bd3dd60",
   "metadata": {},
   "outputs": [
    {
     "data": {
      "text/plain": [
       "array([False,  True,  True, False,  True, False,  True, False, False,\n",
       "        True, False,  True,  True,  True,  True, False, False,  True,\n",
       "        True, False])"
      ]
     },
     "execution_count": 83,
     "metadata": {},
     "output_type": "execute_result"
    }
   ],
   "source": [
    "result_list"
   ]
  },
  {
   "cell_type": "code",
   "execution_count": 84,
   "id": "602ed94e",
   "metadata": {},
   "outputs": [
    {
     "data": {
      "text/plain": [
       "array([57, 27, 87, 86, 35, 35, 29, 74, 22, 51, 28])"
      ]
     },
     "execution_count": 84,
     "metadata": {},
     "output_type": "execute_result"
    }
   ],
   "source": [
    "my_newest_list[result_list]"
   ]
  },
  {
   "cell_type": "code",
   "execution_count": 85,
   "id": "50fb301e",
   "metadata": {},
   "outputs": [
    {
     "data": {
      "text/plain": [
       "array([57, 27, 87, 86, 35, 35, 29, 74, 22, 51, 28])"
      ]
     },
     "execution_count": 85,
     "metadata": {},
     "output_type": "execute_result"
    }
   ],
   "source": [
    "my_newest_list[my_newest_list > 20]"
   ]
  },
  {
   "cell_type": "code",
   "execution_count": 87,
   "id": "6b4435cd",
   "metadata": {},
   "outputs": [
    {
     "data": {
      "text/plain": [
       "array([11, 57, 27, 15, 87, 14, 86,  8, 10, 35,  9, 35, 29, 74, 22,  9,  8,\n",
       "       51, 28,  1])"
      ]
     },
     "execution_count": 87,
     "metadata": {},
     "output_type": "execute_result"
    }
   ],
   "source": [
    "my_newest_list"
   ]
  },
  {
   "cell_type": "code",
   "execution_count": 86,
   "id": "7fd39d2a",
   "metadata": {},
   "outputs": [
    {
     "data": {
      "text/plain": [
       "array([ 22, 114,  54,  30, 174,  28, 172,  16,  20,  70,  18,  70,  58,\n",
       "       148,  44,  18,  16, 102,  56,   2])"
      ]
     },
     "execution_count": 86,
     "metadata": {},
     "output_type": "execute_result"
    }
   ],
   "source": [
    "my_newest_list + my_newest_list"
   ]
  },
  {
   "cell_type": "code",
   "execution_count": 89,
   "id": "0fd2ba07",
   "metadata": {},
   "outputs": [
    {
     "data": {
      "text/plain": [
       "array([ 33, 171,  81,  45, 261,  42, 258,  24,  30, 105,  27, 105,  87,\n",
       "       222,  66,  27,  24, 153,  84,   3])"
      ]
     },
     "execution_count": 89,
     "metadata": {},
     "output_type": "execute_result"
    }
   ],
   "source": [
    "my_newest_list * 3"
   ]
  },
  {
   "cell_type": "code",
   "execution_count": 90,
   "id": "4358b302",
   "metadata": {},
   "outputs": [
    {
     "data": {
      "text/plain": [
       "array([11, 57, 27, 15, 87, 14, 86,  8, 10, 35,  9, 35, 29, 74, 22,  9,  8,\n",
       "       51, 28,  1])"
      ]
     },
     "execution_count": 90,
     "metadata": {},
     "output_type": "execute_result"
    }
   ],
   "source": [
    "my_newest_list"
   ]
  },
  {
   "cell_type": "code",
   "execution_count": 91,
   "id": "30899fad",
   "metadata": {},
   "outputs": [
    {
     "data": {
      "text/plain": [
       "array([ 121, 3249,  729,  225, 7569,  196, 7396,   64,  100, 1225,   81,\n",
       "       1225,  841, 5476,  484,   81,   64, 2601,  784,    1])"
      ]
     },
     "execution_count": 91,
     "metadata": {},
     "output_type": "execute_result"
    }
   ],
   "source": [
    "my_newest_list * my_newest_list"
   ]
  },
  {
   "cell_type": "code",
   "execution_count": 92,
   "id": "3fdb779d",
   "metadata": {},
   "outputs": [
    {
     "data": {
      "text/plain": [
       "array([ 121, 3249,  729,  225, 7569,  196, 7396,   64,  100, 1225,   81,\n",
       "       1225,  841, 5476,  484,   81,   64, 2601,  784,    1])"
      ]
     },
     "execution_count": 92,
     "metadata": {},
     "output_type": "execute_result"
    }
   ],
   "source": [
    "my_newest_list ** 2"
   ]
  },
  {
   "cell_type": "code",
   "execution_count": 93,
   "id": "5de3d09c",
   "metadata": {},
   "outputs": [
    {
     "data": {
      "text/plain": [
       "array([0, 0, 0, 0, 0, 0, 0, 0, 0, 0, 0, 0, 0, 0, 0, 0, 0, 0, 0, 0])"
      ]
     },
     "execution_count": 93,
     "metadata": {},
     "output_type": "execute_result"
    }
   ],
   "source": [
    "my_newest_list - my_newest_list"
   ]
  },
  {
   "cell_type": "code",
   "execution_count": 96,
   "id": "633aa714",
   "metadata": {},
   "outputs": [
    {
     "data": {
      "text/plain": [
       "array([1., 1., 1., 1., 1., 1., 1., 1., 1., 1., 1., 1., 1., 1., 1., 1., 1.,\n",
       "       1., 1., 1.])"
      ]
     },
     "execution_count": 96,
     "metadata": {},
     "output_type": "execute_result"
    }
   ],
   "source": [
    "my_newest_list / my_newest_list # eğer dizide 0 olursa invalid value hatası alırız ama 0 olan değerler için nan yazılır."
   ]
  },
  {
   "cell_type": "code",
   "execution_count": 98,
   "id": "9ec6a2b6",
   "metadata": {},
   "outputs": [
    {
     "data": {
      "text/plain": [
       "array([3.31662479, 7.54983444, 5.19615242, 3.87298335, 9.32737905,\n",
       "       3.74165739, 9.2736185 , 2.82842712, 3.16227766, 5.91607978,\n",
       "       3.        , 5.91607978, 5.38516481, 8.60232527, 4.69041576,\n",
       "       3.        , 2.82842712, 7.14142843, 5.29150262, 1.        ])"
      ]
     },
     "execution_count": 98,
     "metadata": {},
     "output_type": "execute_result"
    }
   ],
   "source": [
    "np.sqrt(my_newest_list)"
   ]
  },
  {
   "cell_type": "code",
   "execution_count": 99,
   "id": "c1e66bbf",
   "metadata": {},
   "outputs": [
    {
     "data": {
      "text/plain": [
       "87"
      ]
     },
     "execution_count": 99,
     "metadata": {},
     "output_type": "execute_result"
    }
   ],
   "source": [
    "np.max(my_newest_list)"
   ]
  },
  {
   "cell_type": "code",
   "execution_count": 101,
   "id": "661453e9",
   "metadata": {},
   "outputs": [
    {
     "data": {
      "text/plain": [
       "1"
      ]
     },
     "execution_count": 101,
     "metadata": {},
     "output_type": "execute_result"
    }
   ],
   "source": [
    "np.min(my_newest_list)"
   ]
  }
 ],
 "metadata": {
  "kernelspec": {
   "display_name": "Python 3 (ipykernel)",
   "language": "python",
   "name": "python3"
  },
  "language_info": {
   "codemirror_mode": {
    "name": "ipython",
    "version": 3
   },
   "file_extension": ".py",
   "mimetype": "text/x-python",
   "name": "python",
   "nbconvert_exporter": "python",
   "pygments_lexer": "ipython3",
   "version": "3.11.4"
  }
 },
 "nbformat": 4,
 "nbformat_minor": 5
}
