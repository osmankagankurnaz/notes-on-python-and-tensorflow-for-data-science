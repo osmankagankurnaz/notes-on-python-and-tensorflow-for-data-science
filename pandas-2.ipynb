{
 "cells": [
  {
   "cell_type": "code",
   "execution_count": 2,
   "id": "1d8e7475",
   "metadata": {},
   "outputs": [],
   "source": [
    "import numpy as np\n",
    "import pandas as pd"
   ]
  },
  {
   "cell_type": "code",
   "execution_count": 12,
   "id": "3f1079a0",
   "metadata": {},
   "outputs": [],
   "source": [
    "data = np.random.randn(4,3) * 10"
   ]
  },
  {
   "cell_type": "code",
   "execution_count": 13,
   "id": "2efa9d52",
   "metadata": {},
   "outputs": [
    {
     "data": {
      "text/plain": [
       "array([[ -1.50792691,  16.48590201,  -6.93054888],\n",
       "       [  2.73087298,  -2.97027999,   1.30003838],\n",
       "       [  4.97984428,   1.93393333,   5.46465098],\n",
       "       [-10.74939054,   8.52470127,   7.2841071 ]])"
      ]
     },
     "execution_count": 13,
     "metadata": {},
     "output_type": "execute_result"
    }
   ],
   "source": [
    "data "
   ]
  },
  {
   "cell_type": "markdown",
   "id": "6fdf10d4",
   "metadata": {},
   "source": [
    "## DATA FRAMES"
   ]
  },
  {
   "cell_type": "code",
   "execution_count": 14,
   "id": "38090cab",
   "metadata": {},
   "outputs": [],
   "source": [
    "data_frame = pd.DataFrame(data)"
   ]
  },
  {
   "cell_type": "code",
   "execution_count": 15,
   "id": "ac775eb9",
   "metadata": {},
   "outputs": [
    {
     "data": {
      "text/html": [
       "<div>\n",
       "<style scoped>\n",
       "    .dataframe tbody tr th:only-of-type {\n",
       "        vertical-align: middle;\n",
       "    }\n",
       "\n",
       "    .dataframe tbody tr th {\n",
       "        vertical-align: top;\n",
       "    }\n",
       "\n",
       "    .dataframe thead th {\n",
       "        text-align: right;\n",
       "    }\n",
       "</style>\n",
       "<table border=\"1\" class=\"dataframe\">\n",
       "  <thead>\n",
       "    <tr style=\"text-align: right;\">\n",
       "      <th></th>\n",
       "      <th>0</th>\n",
       "      <th>1</th>\n",
       "      <th>2</th>\n",
       "    </tr>\n",
       "  </thead>\n",
       "  <tbody>\n",
       "    <tr>\n",
       "      <th>0</th>\n",
       "      <td>-1.507927</td>\n",
       "      <td>16.485902</td>\n",
       "      <td>-6.930549</td>\n",
       "    </tr>\n",
       "    <tr>\n",
       "      <th>1</th>\n",
       "      <td>2.730873</td>\n",
       "      <td>-2.970280</td>\n",
       "      <td>1.300038</td>\n",
       "    </tr>\n",
       "    <tr>\n",
       "      <th>2</th>\n",
       "      <td>4.979844</td>\n",
       "      <td>1.933933</td>\n",
       "      <td>5.464651</td>\n",
       "    </tr>\n",
       "    <tr>\n",
       "      <th>3</th>\n",
       "      <td>-10.749391</td>\n",
       "      <td>8.524701</td>\n",
       "      <td>7.284107</td>\n",
       "    </tr>\n",
       "  </tbody>\n",
       "</table>\n",
       "</div>"
      ],
      "text/plain": [
       "           0          1         2\n",
       "0  -1.507927  16.485902 -6.930549\n",
       "1   2.730873  -2.970280  1.300038\n",
       "2   4.979844   1.933933  5.464651\n",
       "3 -10.749391   8.524701  7.284107"
      ]
     },
     "execution_count": 15,
     "metadata": {},
     "output_type": "execute_result"
    }
   ],
   "source": [
    "data_frame"
   ]
  },
  {
   "cell_type": "code",
   "execution_count": 16,
   "id": "1dd2e12d",
   "metadata": {},
   "outputs": [
    {
     "data": {
      "text/plain": [
       "0    -1.507927\n",
       "1     2.730873\n",
       "2     4.979844\n",
       "3   -10.749391\n",
       "Name: 0, dtype: float64"
      ]
     },
     "execution_count": 16,
     "metadata": {},
     "output_type": "execute_result"
    }
   ],
   "source": [
    "data_frame[0]"
   ]
  },
  {
   "cell_type": "code",
   "execution_count": 17,
   "id": "84476fd0",
   "metadata": {},
   "outputs": [
    {
     "data": {
      "text/plain": [
       "pandas.core.series.Series"
      ]
     },
     "execution_count": 17,
     "metadata": {},
     "output_type": "execute_result"
    }
   ],
   "source": [
    "type(data_frame[0])"
   ]
  },
  {
   "cell_type": "code",
   "execution_count": 20,
   "id": "eb9b77c7",
   "metadata": {},
   "outputs": [],
   "source": [
    "detail_data_frame = pd.DataFrame(data,index=[\"Osman\",\"Kagan\",\"Ahmet\",\"Hamdi\"],columns=[\"Maas\",\"Yas\",\"Deneyim\"])"
   ]
  },
  {
   "cell_type": "code",
   "execution_count": 21,
   "id": "77e2b332",
   "metadata": {},
   "outputs": [
    {
     "data": {
      "text/html": [
       "<div>\n",
       "<style scoped>\n",
       "    .dataframe tbody tr th:only-of-type {\n",
       "        vertical-align: middle;\n",
       "    }\n",
       "\n",
       "    .dataframe tbody tr th {\n",
       "        vertical-align: top;\n",
       "    }\n",
       "\n",
       "    .dataframe thead th {\n",
       "        text-align: right;\n",
       "    }\n",
       "</style>\n",
       "<table border=\"1\" class=\"dataframe\">\n",
       "  <thead>\n",
       "    <tr style=\"text-align: right;\">\n",
       "      <th></th>\n",
       "      <th>Maas</th>\n",
       "      <th>Yas</th>\n",
       "      <th>Deneyim</th>\n",
       "    </tr>\n",
       "  </thead>\n",
       "  <tbody>\n",
       "    <tr>\n",
       "      <th>Osman</th>\n",
       "      <td>-1.507927</td>\n",
       "      <td>16.485902</td>\n",
       "      <td>-6.930549</td>\n",
       "    </tr>\n",
       "    <tr>\n",
       "      <th>Kagan</th>\n",
       "      <td>2.730873</td>\n",
       "      <td>-2.970280</td>\n",
       "      <td>1.300038</td>\n",
       "    </tr>\n",
       "    <tr>\n",
       "      <th>Ahmet</th>\n",
       "      <td>4.979844</td>\n",
       "      <td>1.933933</td>\n",
       "      <td>5.464651</td>\n",
       "    </tr>\n",
       "    <tr>\n",
       "      <th>Hamdi</th>\n",
       "      <td>-10.749391</td>\n",
       "      <td>8.524701</td>\n",
       "      <td>7.284107</td>\n",
       "    </tr>\n",
       "  </tbody>\n",
       "</table>\n",
       "</div>"
      ],
      "text/plain": [
       "            Maas        Yas   Deneyim\n",
       "Osman  -1.507927  16.485902 -6.930549\n",
       "Kagan   2.730873  -2.970280  1.300038\n",
       "Ahmet   4.979844   1.933933  5.464651\n",
       "Hamdi -10.749391   8.524701  7.284107"
      ]
     },
     "execution_count": 21,
     "metadata": {},
     "output_type": "execute_result"
    }
   ],
   "source": [
    "detail_data_frame"
   ]
  },
  {
   "cell_type": "code",
   "execution_count": 22,
   "id": "8255e4aa",
   "metadata": {},
   "outputs": [
    {
     "data": {
      "text/plain": [
       "Osman    -1.507927\n",
       "Kagan     2.730873\n",
       "Ahmet     4.979844\n",
       "Hamdi   -10.749391\n",
       "Name: Maas, dtype: float64"
      ]
     },
     "execution_count": 22,
     "metadata": {},
     "output_type": "execute_result"
    }
   ],
   "source": [
    "detail_data_frame[\"Maas\"]"
   ]
  },
  {
   "cell_type": "code",
   "execution_count": 29,
   "id": "11400234",
   "metadata": {},
   "outputs": [
    {
     "data": {
      "text/plain": [
       "Osman   -6.930549\n",
       "Kagan    1.300038\n",
       "Ahmet    5.464651\n",
       "Hamdi    7.284107\n",
       "Name: Deneyim, dtype: float64"
      ]
     },
     "execution_count": 29,
     "metadata": {},
     "output_type": "execute_result"
    }
   ],
   "source": [
    "detail_data_frame[\"Deneyim\"]"
   ]
  },
  {
   "cell_type": "code",
   "execution_count": 30,
   "id": "ed2b5073",
   "metadata": {},
   "outputs": [
    {
     "data": {
      "text/html": [
       "<div>\n",
       "<style scoped>\n",
       "    .dataframe tbody tr th:only-of-type {\n",
       "        vertical-align: middle;\n",
       "    }\n",
       "\n",
       "    .dataframe tbody tr th {\n",
       "        vertical-align: top;\n",
       "    }\n",
       "\n",
       "    .dataframe thead th {\n",
       "        text-align: right;\n",
       "    }\n",
       "</style>\n",
       "<table border=\"1\" class=\"dataframe\">\n",
       "  <thead>\n",
       "    <tr style=\"text-align: right;\">\n",
       "      <th></th>\n",
       "      <th>Deneyim</th>\n",
       "    </tr>\n",
       "  </thead>\n",
       "  <tbody>\n",
       "    <tr>\n",
       "      <th>Osman</th>\n",
       "      <td>-6.930549</td>\n",
       "    </tr>\n",
       "    <tr>\n",
       "      <th>Kagan</th>\n",
       "      <td>1.300038</td>\n",
       "    </tr>\n",
       "    <tr>\n",
       "      <th>Ahmet</th>\n",
       "      <td>5.464651</td>\n",
       "    </tr>\n",
       "    <tr>\n",
       "      <th>Hamdi</th>\n",
       "      <td>7.284107</td>\n",
       "    </tr>\n",
       "  </tbody>\n",
       "</table>\n",
       "</div>"
      ],
      "text/plain": [
       "        Deneyim\n",
       "Osman -6.930549\n",
       "Kagan  1.300038\n",
       "Ahmet  5.464651\n",
       "Hamdi  7.284107"
      ]
     },
     "execution_count": 30,
     "metadata": {},
     "output_type": "execute_result"
    }
   ],
   "source": [
    "detail_data_frame[[\"Deneyim\"]]"
   ]
  },
  {
   "cell_type": "code",
   "execution_count": 31,
   "id": "8ba4ae44",
   "metadata": {},
   "outputs": [
    {
     "data": {
      "text/html": [
       "<div>\n",
       "<style scoped>\n",
       "    .dataframe tbody tr th:only-of-type {\n",
       "        vertical-align: middle;\n",
       "    }\n",
       "\n",
       "    .dataframe tbody tr th {\n",
       "        vertical-align: top;\n",
       "    }\n",
       "\n",
       "    .dataframe thead th {\n",
       "        text-align: right;\n",
       "    }\n",
       "</style>\n",
       "<table border=\"1\" class=\"dataframe\">\n",
       "  <thead>\n",
       "    <tr style=\"text-align: right;\">\n",
       "      <th></th>\n",
       "      <th>Maas</th>\n",
       "      <th>Yas</th>\n",
       "    </tr>\n",
       "  </thead>\n",
       "  <tbody>\n",
       "    <tr>\n",
       "      <th>Osman</th>\n",
       "      <td>-1.507927</td>\n",
       "      <td>16.485902</td>\n",
       "    </tr>\n",
       "    <tr>\n",
       "      <th>Kagan</th>\n",
       "      <td>2.730873</td>\n",
       "      <td>-2.970280</td>\n",
       "    </tr>\n",
       "    <tr>\n",
       "      <th>Ahmet</th>\n",
       "      <td>4.979844</td>\n",
       "      <td>1.933933</td>\n",
       "    </tr>\n",
       "    <tr>\n",
       "      <th>Hamdi</th>\n",
       "      <td>-10.749391</td>\n",
       "      <td>8.524701</td>\n",
       "    </tr>\n",
       "  </tbody>\n",
       "</table>\n",
       "</div>"
      ],
      "text/plain": [
       "            Maas        Yas\n",
       "Osman  -1.507927  16.485902\n",
       "Kagan   2.730873  -2.970280\n",
       "Ahmet   4.979844   1.933933\n",
       "Hamdi -10.749391   8.524701"
      ]
     },
     "execution_count": 31,
     "metadata": {},
     "output_type": "execute_result"
    }
   ],
   "source": [
    "detail_data_frame[[\"Maas\",\"Yas\"]]"
   ]
  },
  {
   "cell_type": "code",
   "execution_count": 33,
   "id": "463dd4a9",
   "metadata": {},
   "outputs": [
    {
     "data": {
      "text/plain": [
       "Maas       -1.507927\n",
       "Yas        16.485902\n",
       "Deneyim    -6.930549\n",
       "Name: Osman, dtype: float64"
      ]
     },
     "execution_count": 33,
     "metadata": {},
     "output_type": "execute_result"
    }
   ],
   "source": [
    "detail_data_frame.loc[\"Osman\"]"
   ]
  },
  {
   "cell_type": "code",
   "execution_count": 34,
   "id": "877c3b59",
   "metadata": {},
   "outputs": [
    {
     "data": {
      "text/html": [
       "<div>\n",
       "<style scoped>\n",
       "    .dataframe tbody tr th:only-of-type {\n",
       "        vertical-align: middle;\n",
       "    }\n",
       "\n",
       "    .dataframe tbody tr th {\n",
       "        vertical-align: top;\n",
       "    }\n",
       "\n",
       "    .dataframe thead th {\n",
       "        text-align: right;\n",
       "    }\n",
       "</style>\n",
       "<table border=\"1\" class=\"dataframe\">\n",
       "  <thead>\n",
       "    <tr style=\"text-align: right;\">\n",
       "      <th></th>\n",
       "      <th>Maas</th>\n",
       "      <th>Yas</th>\n",
       "      <th>Deneyim</th>\n",
       "    </tr>\n",
       "  </thead>\n",
       "  <tbody>\n",
       "    <tr>\n",
       "      <th>Osman</th>\n",
       "      <td>-1.507927</td>\n",
       "      <td>16.485902</td>\n",
       "      <td>-6.930549</td>\n",
       "    </tr>\n",
       "  </tbody>\n",
       "</table>\n",
       "</div>"
      ],
      "text/plain": [
       "           Maas        Yas   Deneyim\n",
       "Osman -1.507927  16.485902 -6.930549"
      ]
     },
     "execution_count": 34,
     "metadata": {},
     "output_type": "execute_result"
    }
   ],
   "source": [
    "detail_data_frame.loc[[\"Osman\"]]"
   ]
  },
  {
   "cell_type": "code",
   "execution_count": 36,
   "id": "c539975d",
   "metadata": {},
   "outputs": [
    {
     "data": {
      "text/plain": [
       "Maas       -1.507927\n",
       "Yas        16.485902\n",
       "Deneyim    -6.930549\n",
       "Name: Osman, dtype: float64"
      ]
     },
     "execution_count": 36,
     "metadata": {},
     "output_type": "execute_result"
    }
   ],
   "source": [
    "detail_data_frame.iloc[0]"
   ]
  },
  {
   "cell_type": "code",
   "execution_count": 37,
   "id": "ea1a84fa",
   "metadata": {},
   "outputs": [
    {
     "data": {
      "text/html": [
       "<div>\n",
       "<style scoped>\n",
       "    .dataframe tbody tr th:only-of-type {\n",
       "        vertical-align: middle;\n",
       "    }\n",
       "\n",
       "    .dataframe tbody tr th {\n",
       "        vertical-align: top;\n",
       "    }\n",
       "\n",
       "    .dataframe thead th {\n",
       "        text-align: right;\n",
       "    }\n",
       "</style>\n",
       "<table border=\"1\" class=\"dataframe\">\n",
       "  <thead>\n",
       "    <tr style=\"text-align: right;\">\n",
       "      <th></th>\n",
       "      <th>Maas</th>\n",
       "      <th>Yas</th>\n",
       "      <th>Deneyim</th>\n",
       "    </tr>\n",
       "  </thead>\n",
       "  <tbody>\n",
       "    <tr>\n",
       "      <th>Osman</th>\n",
       "      <td>-1.507927</td>\n",
       "      <td>16.485902</td>\n",
       "      <td>-6.930549</td>\n",
       "    </tr>\n",
       "  </tbody>\n",
       "</table>\n",
       "</div>"
      ],
      "text/plain": [
       "           Maas        Yas   Deneyim\n",
       "Osman -1.507927  16.485902 -6.930549"
      ]
     },
     "execution_count": 37,
     "metadata": {},
     "output_type": "execute_result"
    }
   ],
   "source": [
    "detail_data_frame.iloc[[0]]"
   ]
  },
  {
   "cell_type": "markdown",
   "id": "170167f0",
   "metadata": {},
   "source": [
    "## DATA FRAME OPERATIONS"
   ]
  },
  {
   "cell_type": "code",
   "execution_count": 40,
   "id": "3ab9b674",
   "metadata": {},
   "outputs": [],
   "source": [
    "detail_data_frame[\"Ikramiye\"] = detail_data_frame[\"Maas\"] * 2"
   ]
  },
  {
   "cell_type": "code",
   "execution_count": 41,
   "id": "94dd668e",
   "metadata": {},
   "outputs": [
    {
     "data": {
      "text/html": [
       "<div>\n",
       "<style scoped>\n",
       "    .dataframe tbody tr th:only-of-type {\n",
       "        vertical-align: middle;\n",
       "    }\n",
       "\n",
       "    .dataframe tbody tr th {\n",
       "        vertical-align: top;\n",
       "    }\n",
       "\n",
       "    .dataframe thead th {\n",
       "        text-align: right;\n",
       "    }\n",
       "</style>\n",
       "<table border=\"1\" class=\"dataframe\">\n",
       "  <thead>\n",
       "    <tr style=\"text-align: right;\">\n",
       "      <th></th>\n",
       "      <th>Maas</th>\n",
       "      <th>Yas</th>\n",
       "      <th>Deneyim</th>\n",
       "      <th>Ikramiye</th>\n",
       "    </tr>\n",
       "  </thead>\n",
       "  <tbody>\n",
       "    <tr>\n",
       "      <th>Osman</th>\n",
       "      <td>-1.507927</td>\n",
       "      <td>16.485902</td>\n",
       "      <td>-6.930549</td>\n",
       "      <td>-3.015854</td>\n",
       "    </tr>\n",
       "    <tr>\n",
       "      <th>Kagan</th>\n",
       "      <td>2.730873</td>\n",
       "      <td>-2.970280</td>\n",
       "      <td>1.300038</td>\n",
       "      <td>5.461746</td>\n",
       "    </tr>\n",
       "    <tr>\n",
       "      <th>Ahmet</th>\n",
       "      <td>4.979844</td>\n",
       "      <td>1.933933</td>\n",
       "      <td>5.464651</td>\n",
       "      <td>9.959689</td>\n",
       "    </tr>\n",
       "    <tr>\n",
       "      <th>Hamdi</th>\n",
       "      <td>-10.749391</td>\n",
       "      <td>8.524701</td>\n",
       "      <td>7.284107</td>\n",
       "      <td>-21.498781</td>\n",
       "    </tr>\n",
       "  </tbody>\n",
       "</table>\n",
       "</div>"
      ],
      "text/plain": [
       "            Maas        Yas   Deneyim   Ikramiye\n",
       "Osman  -1.507927  16.485902 -6.930549  -3.015854\n",
       "Kagan   2.730873  -2.970280  1.300038   5.461746\n",
       "Ahmet   4.979844   1.933933  5.464651   9.959689\n",
       "Hamdi -10.749391   8.524701  7.284107 -21.498781"
      ]
     },
     "execution_count": 41,
     "metadata": {},
     "output_type": "execute_result"
    }
   ],
   "source": [
    "detail_data_frame"
   ]
  },
  {
   "cell_type": "code",
   "execution_count": 42,
   "id": "91a15550",
   "metadata": {},
   "outputs": [
    {
     "data": {
      "text/html": [
       "<div>\n",
       "<style scoped>\n",
       "    .dataframe tbody tr th:only-of-type {\n",
       "        vertical-align: middle;\n",
       "    }\n",
       "\n",
       "    .dataframe tbody tr th {\n",
       "        vertical-align: top;\n",
       "    }\n",
       "\n",
       "    .dataframe thead th {\n",
       "        text-align: right;\n",
       "    }\n",
       "</style>\n",
       "<table border=\"1\" class=\"dataframe\">\n",
       "  <thead>\n",
       "    <tr style=\"text-align: right;\">\n",
       "      <th></th>\n",
       "      <th>Maas</th>\n",
       "      <th>Yas</th>\n",
       "      <th>Deneyim</th>\n",
       "    </tr>\n",
       "  </thead>\n",
       "  <tbody>\n",
       "    <tr>\n",
       "      <th>Osman</th>\n",
       "      <td>-1.507927</td>\n",
       "      <td>16.485902</td>\n",
       "      <td>-6.930549</td>\n",
       "    </tr>\n",
       "    <tr>\n",
       "      <th>Kagan</th>\n",
       "      <td>2.730873</td>\n",
       "      <td>-2.970280</td>\n",
       "      <td>1.300038</td>\n",
       "    </tr>\n",
       "    <tr>\n",
       "      <th>Ahmet</th>\n",
       "      <td>4.979844</td>\n",
       "      <td>1.933933</td>\n",
       "      <td>5.464651</td>\n",
       "    </tr>\n",
       "    <tr>\n",
       "      <th>Hamdi</th>\n",
       "      <td>-10.749391</td>\n",
       "      <td>8.524701</td>\n",
       "      <td>7.284107</td>\n",
       "    </tr>\n",
       "  </tbody>\n",
       "</table>\n",
       "</div>"
      ],
      "text/plain": [
       "            Maas        Yas   Deneyim\n",
       "Osman  -1.507927  16.485902 -6.930549\n",
       "Kagan   2.730873  -2.970280  1.300038\n",
       "Ahmet   4.979844   1.933933  5.464651\n",
       "Hamdi -10.749391   8.524701  7.284107"
      ]
     },
     "execution_count": 42,
     "metadata": {},
     "output_type": "execute_result"
    }
   ],
   "source": [
    "detail_data_frame.drop(\"Ikramiye\",axis=1)"
   ]
  },
  {
   "cell_type": "code",
   "execution_count": 43,
   "id": "0e48f391",
   "metadata": {},
   "outputs": [
    {
     "data": {
      "text/html": [
       "<div>\n",
       "<style scoped>\n",
       "    .dataframe tbody tr th:only-of-type {\n",
       "        vertical-align: middle;\n",
       "    }\n",
       "\n",
       "    .dataframe tbody tr th {\n",
       "        vertical-align: top;\n",
       "    }\n",
       "\n",
       "    .dataframe thead th {\n",
       "        text-align: right;\n",
       "    }\n",
       "</style>\n",
       "<table border=\"1\" class=\"dataframe\">\n",
       "  <thead>\n",
       "    <tr style=\"text-align: right;\">\n",
       "      <th></th>\n",
       "      <th>Maas</th>\n",
       "      <th>Yas</th>\n",
       "      <th>Deneyim</th>\n",
       "      <th>Ikramiye</th>\n",
       "    </tr>\n",
       "  </thead>\n",
       "  <tbody>\n",
       "    <tr>\n",
       "      <th>Osman</th>\n",
       "      <td>-1.507927</td>\n",
       "      <td>16.485902</td>\n",
       "      <td>-6.930549</td>\n",
       "      <td>-3.015854</td>\n",
       "    </tr>\n",
       "    <tr>\n",
       "      <th>Ahmet</th>\n",
       "      <td>4.979844</td>\n",
       "      <td>1.933933</td>\n",
       "      <td>5.464651</td>\n",
       "      <td>9.959689</td>\n",
       "    </tr>\n",
       "    <tr>\n",
       "      <th>Hamdi</th>\n",
       "      <td>-10.749391</td>\n",
       "      <td>8.524701</td>\n",
       "      <td>7.284107</td>\n",
       "      <td>-21.498781</td>\n",
       "    </tr>\n",
       "  </tbody>\n",
       "</table>\n",
       "</div>"
      ],
      "text/plain": [
       "            Maas        Yas   Deneyim   Ikramiye\n",
       "Osman  -1.507927  16.485902 -6.930549  -3.015854\n",
       "Ahmet   4.979844   1.933933  5.464651   9.959689\n",
       "Hamdi -10.749391   8.524701  7.284107 -21.498781"
      ]
     },
     "execution_count": 43,
     "metadata": {},
     "output_type": "execute_result"
    }
   ],
   "source": [
    "detail_data_frame.drop(\"Kagan\",axis=0)"
   ]
  },
  {
   "cell_type": "code",
   "execution_count": 44,
   "id": "7b78a73e",
   "metadata": {},
   "outputs": [
    {
     "data": {
      "text/html": [
       "<div>\n",
       "<style scoped>\n",
       "    .dataframe tbody tr th:only-of-type {\n",
       "        vertical-align: middle;\n",
       "    }\n",
       "\n",
       "    .dataframe tbody tr th {\n",
       "        vertical-align: top;\n",
       "    }\n",
       "\n",
       "    .dataframe thead th {\n",
       "        text-align: right;\n",
       "    }\n",
       "</style>\n",
       "<table border=\"1\" class=\"dataframe\">\n",
       "  <thead>\n",
       "    <tr style=\"text-align: right;\">\n",
       "      <th></th>\n",
       "      <th>Maas</th>\n",
       "      <th>Yas</th>\n",
       "      <th>Deneyim</th>\n",
       "      <th>Ikramiye</th>\n",
       "    </tr>\n",
       "  </thead>\n",
       "  <tbody>\n",
       "    <tr>\n",
       "      <th>Osman</th>\n",
       "      <td>-1.507927</td>\n",
       "      <td>16.485902</td>\n",
       "      <td>-6.930549</td>\n",
       "      <td>-3.015854</td>\n",
       "    </tr>\n",
       "    <tr>\n",
       "      <th>Kagan</th>\n",
       "      <td>2.730873</td>\n",
       "      <td>-2.970280</td>\n",
       "      <td>1.300038</td>\n",
       "      <td>5.461746</td>\n",
       "    </tr>\n",
       "    <tr>\n",
       "      <th>Ahmet</th>\n",
       "      <td>4.979844</td>\n",
       "      <td>1.933933</td>\n",
       "      <td>5.464651</td>\n",
       "      <td>9.959689</td>\n",
       "    </tr>\n",
       "    <tr>\n",
       "      <th>Hamdi</th>\n",
       "      <td>-10.749391</td>\n",
       "      <td>8.524701</td>\n",
       "      <td>7.284107</td>\n",
       "      <td>-21.498781</td>\n",
       "    </tr>\n",
       "  </tbody>\n",
       "</table>\n",
       "</div>"
      ],
      "text/plain": [
       "            Maas        Yas   Deneyim   Ikramiye\n",
       "Osman  -1.507927  16.485902 -6.930549  -3.015854\n",
       "Kagan   2.730873  -2.970280  1.300038   5.461746\n",
       "Ahmet   4.979844   1.933933  5.464651   9.959689\n",
       "Hamdi -10.749391   8.524701  7.284107 -21.498781"
      ]
     },
     "execution_count": 44,
     "metadata": {},
     "output_type": "execute_result"
    }
   ],
   "source": [
    "detail_data_frame"
   ]
  },
  {
   "cell_type": "code",
   "execution_count": 45,
   "id": "fbb229df",
   "metadata": {},
   "outputs": [],
   "source": [
    "detail_data_frame.drop(\"Ikramiye\",axis=1,inplace=True)"
   ]
  },
  {
   "cell_type": "code",
   "execution_count": 46,
   "id": "e87782ac",
   "metadata": {},
   "outputs": [
    {
     "data": {
      "text/html": [
       "<div>\n",
       "<style scoped>\n",
       "    .dataframe tbody tr th:only-of-type {\n",
       "        vertical-align: middle;\n",
       "    }\n",
       "\n",
       "    .dataframe tbody tr th {\n",
       "        vertical-align: top;\n",
       "    }\n",
       "\n",
       "    .dataframe thead th {\n",
       "        text-align: right;\n",
       "    }\n",
       "</style>\n",
       "<table border=\"1\" class=\"dataframe\">\n",
       "  <thead>\n",
       "    <tr style=\"text-align: right;\">\n",
       "      <th></th>\n",
       "      <th>Maas</th>\n",
       "      <th>Yas</th>\n",
       "      <th>Deneyim</th>\n",
       "    </tr>\n",
       "  </thead>\n",
       "  <tbody>\n",
       "    <tr>\n",
       "      <th>Osman</th>\n",
       "      <td>-1.507927</td>\n",
       "      <td>16.485902</td>\n",
       "      <td>-6.930549</td>\n",
       "    </tr>\n",
       "    <tr>\n",
       "      <th>Kagan</th>\n",
       "      <td>2.730873</td>\n",
       "      <td>-2.970280</td>\n",
       "      <td>1.300038</td>\n",
       "    </tr>\n",
       "    <tr>\n",
       "      <th>Ahmet</th>\n",
       "      <td>4.979844</td>\n",
       "      <td>1.933933</td>\n",
       "      <td>5.464651</td>\n",
       "    </tr>\n",
       "    <tr>\n",
       "      <th>Hamdi</th>\n",
       "      <td>-10.749391</td>\n",
       "      <td>8.524701</td>\n",
       "      <td>7.284107</td>\n",
       "    </tr>\n",
       "  </tbody>\n",
       "</table>\n",
       "</div>"
      ],
      "text/plain": [
       "            Maas        Yas   Deneyim\n",
       "Osman  -1.507927  16.485902 -6.930549\n",
       "Kagan   2.730873  -2.970280  1.300038\n",
       "Ahmet   4.979844   1.933933  5.464651\n",
       "Hamdi -10.749391   8.524701  7.284107"
      ]
     },
     "execution_count": 46,
     "metadata": {},
     "output_type": "execute_result"
    }
   ],
   "source": [
    "detail_data_frame"
   ]
  },
  {
   "cell_type": "code",
   "execution_count": 48,
   "id": "6b0ad072",
   "metadata": {},
   "outputs": [
    {
     "data": {
      "text/plain": [
       "Maas       -1.507927\n",
       "Yas        16.485902\n",
       "Deneyim    -6.930549\n",
       "Name: Osman, dtype: float64"
      ]
     },
     "execution_count": 48,
     "metadata": {},
     "output_type": "execute_result"
    }
   ],
   "source": [
    "detail_data_frame.loc[\"Osman\"]"
   ]
  },
  {
   "cell_type": "code",
   "execution_count": 49,
   "id": "9e773fb7",
   "metadata": {},
   "outputs": [
    {
     "data": {
      "text/plain": [
       "-1.5079269066626908"
      ]
     },
     "execution_count": 49,
     "metadata": {},
     "output_type": "execute_result"
    }
   ],
   "source": [
    "detail_data_frame.loc[\"Osman\"][\"Maas\"]"
   ]
  },
  {
   "cell_type": "code",
   "execution_count": 50,
   "id": "a759d9b7",
   "metadata": {},
   "outputs": [
    {
     "data": {
      "text/plain": [
       "-1.5079269066626908"
      ]
     },
     "execution_count": 50,
     "metadata": {},
     "output_type": "execute_result"
    }
   ],
   "source": [
    "detail_data_frame.loc[\"Osman\",\"Maas\"]"
   ]
  },
  {
   "cell_type": "code",
   "execution_count": 52,
   "id": "c1d84564",
   "metadata": {},
   "outputs": [],
   "source": [
    "boolean_detail_data_frame = detail_data_frame < 0"
   ]
  },
  {
   "cell_type": "code",
   "execution_count": 53,
   "id": "ac6bc884",
   "metadata": {},
   "outputs": [
    {
     "data": {
      "text/html": [
       "<div>\n",
       "<style scoped>\n",
       "    .dataframe tbody tr th:only-of-type {\n",
       "        vertical-align: middle;\n",
       "    }\n",
       "\n",
       "    .dataframe tbody tr th {\n",
       "        vertical-align: top;\n",
       "    }\n",
       "\n",
       "    .dataframe thead th {\n",
       "        text-align: right;\n",
       "    }\n",
       "</style>\n",
       "<table border=\"1\" class=\"dataframe\">\n",
       "  <thead>\n",
       "    <tr style=\"text-align: right;\">\n",
       "      <th></th>\n",
       "      <th>Maas</th>\n",
       "      <th>Yas</th>\n",
       "      <th>Deneyim</th>\n",
       "    </tr>\n",
       "  </thead>\n",
       "  <tbody>\n",
       "    <tr>\n",
       "      <th>Osman</th>\n",
       "      <td>True</td>\n",
       "      <td>False</td>\n",
       "      <td>True</td>\n",
       "    </tr>\n",
       "    <tr>\n",
       "      <th>Kagan</th>\n",
       "      <td>False</td>\n",
       "      <td>True</td>\n",
       "      <td>False</td>\n",
       "    </tr>\n",
       "    <tr>\n",
       "      <th>Ahmet</th>\n",
       "      <td>False</td>\n",
       "      <td>False</td>\n",
       "      <td>False</td>\n",
       "    </tr>\n",
       "    <tr>\n",
       "      <th>Hamdi</th>\n",
       "      <td>True</td>\n",
       "      <td>False</td>\n",
       "      <td>False</td>\n",
       "    </tr>\n",
       "  </tbody>\n",
       "</table>\n",
       "</div>"
      ],
      "text/plain": [
       "        Maas    Yas  Deneyim\n",
       "Osman   True  False     True\n",
       "Kagan  False   True    False\n",
       "Ahmet  False  False    False\n",
       "Hamdi   True  False    False"
      ]
     },
     "execution_count": 53,
     "metadata": {},
     "output_type": "execute_result"
    }
   ],
   "source": [
    "boolean_detail_data_frame"
   ]
  },
  {
   "cell_type": "code",
   "execution_count": 54,
   "id": "87df3d11",
   "metadata": {},
   "outputs": [
    {
     "data": {
      "text/html": [
       "<div>\n",
       "<style scoped>\n",
       "    .dataframe tbody tr th:only-of-type {\n",
       "        vertical-align: middle;\n",
       "    }\n",
       "\n",
       "    .dataframe tbody tr th {\n",
       "        vertical-align: top;\n",
       "    }\n",
       "\n",
       "    .dataframe thead th {\n",
       "        text-align: right;\n",
       "    }\n",
       "</style>\n",
       "<table border=\"1\" class=\"dataframe\">\n",
       "  <thead>\n",
       "    <tr style=\"text-align: right;\">\n",
       "      <th></th>\n",
       "      <th>Maas</th>\n",
       "      <th>Yas</th>\n",
       "      <th>Deneyim</th>\n",
       "    </tr>\n",
       "  </thead>\n",
       "  <tbody>\n",
       "    <tr>\n",
       "      <th>Osman</th>\n",
       "      <td>-1.507927</td>\n",
       "      <td>16.485902</td>\n",
       "      <td>-6.930549</td>\n",
       "    </tr>\n",
       "    <tr>\n",
       "      <th>Kagan</th>\n",
       "      <td>2.730873</td>\n",
       "      <td>-2.970280</td>\n",
       "      <td>1.300038</td>\n",
       "    </tr>\n",
       "    <tr>\n",
       "      <th>Ahmet</th>\n",
       "      <td>4.979844</td>\n",
       "      <td>1.933933</td>\n",
       "      <td>5.464651</td>\n",
       "    </tr>\n",
       "    <tr>\n",
       "      <th>Hamdi</th>\n",
       "      <td>-10.749391</td>\n",
       "      <td>8.524701</td>\n",
       "      <td>7.284107</td>\n",
       "    </tr>\n",
       "  </tbody>\n",
       "</table>\n",
       "</div>"
      ],
      "text/plain": [
       "            Maas        Yas   Deneyim\n",
       "Osman  -1.507927  16.485902 -6.930549\n",
       "Kagan   2.730873  -2.970280  1.300038\n",
       "Ahmet   4.979844   1.933933  5.464651\n",
       "Hamdi -10.749391   8.524701  7.284107"
      ]
     },
     "execution_count": 54,
     "metadata": {},
     "output_type": "execute_result"
    }
   ],
   "source": [
    "detail_data_frame"
   ]
  },
  {
   "cell_type": "code",
   "execution_count": 55,
   "id": "8037a589",
   "metadata": {},
   "outputs": [
    {
     "data": {
      "text/html": [
       "<div>\n",
       "<style scoped>\n",
       "    .dataframe tbody tr th:only-of-type {\n",
       "        vertical-align: middle;\n",
       "    }\n",
       "\n",
       "    .dataframe tbody tr th {\n",
       "        vertical-align: top;\n",
       "    }\n",
       "\n",
       "    .dataframe thead th {\n",
       "        text-align: right;\n",
       "    }\n",
       "</style>\n",
       "<table border=\"1\" class=\"dataframe\">\n",
       "  <thead>\n",
       "    <tr style=\"text-align: right;\">\n",
       "      <th></th>\n",
       "      <th>Maas</th>\n",
       "      <th>Yas</th>\n",
       "      <th>Deneyim</th>\n",
       "    </tr>\n",
       "  </thead>\n",
       "  <tbody>\n",
       "    <tr>\n",
       "      <th>Osman</th>\n",
       "      <td>-1.507927</td>\n",
       "      <td>NaN</td>\n",
       "      <td>-6.930549</td>\n",
       "    </tr>\n",
       "    <tr>\n",
       "      <th>Kagan</th>\n",
       "      <td>NaN</td>\n",
       "      <td>-2.97028</td>\n",
       "      <td>NaN</td>\n",
       "    </tr>\n",
       "    <tr>\n",
       "      <th>Ahmet</th>\n",
       "      <td>NaN</td>\n",
       "      <td>NaN</td>\n",
       "      <td>NaN</td>\n",
       "    </tr>\n",
       "    <tr>\n",
       "      <th>Hamdi</th>\n",
       "      <td>-10.749391</td>\n",
       "      <td>NaN</td>\n",
       "      <td>NaN</td>\n",
       "    </tr>\n",
       "  </tbody>\n",
       "</table>\n",
       "</div>"
      ],
      "text/plain": [
       "            Maas      Yas   Deneyim\n",
       "Osman  -1.507927      NaN -6.930549\n",
       "Kagan        NaN -2.97028       NaN\n",
       "Ahmet        NaN      NaN       NaN\n",
       "Hamdi -10.749391      NaN       NaN"
      ]
     },
     "execution_count": 55,
     "metadata": {},
     "output_type": "execute_result"
    }
   ],
   "source": [
    "detail_data_frame[boolean_detail_data_frame]"
   ]
  },
  {
   "cell_type": "code",
   "execution_count": 56,
   "id": "21d71e54",
   "metadata": {},
   "outputs": [
    {
     "data": {
      "text/html": [
       "<div>\n",
       "<style scoped>\n",
       "    .dataframe tbody tr th:only-of-type {\n",
       "        vertical-align: middle;\n",
       "    }\n",
       "\n",
       "    .dataframe tbody tr th {\n",
       "        vertical-align: top;\n",
       "    }\n",
       "\n",
       "    .dataframe thead th {\n",
       "        text-align: right;\n",
       "    }\n",
       "</style>\n",
       "<table border=\"1\" class=\"dataframe\">\n",
       "  <thead>\n",
       "    <tr style=\"text-align: right;\">\n",
       "      <th></th>\n",
       "      <th>Maas</th>\n",
       "      <th>Yas</th>\n",
       "      <th>Deneyim</th>\n",
       "    </tr>\n",
       "  </thead>\n",
       "  <tbody>\n",
       "    <tr>\n",
       "      <th>Osman</th>\n",
       "      <td>-1.507927</td>\n",
       "      <td>NaN</td>\n",
       "      <td>-6.930549</td>\n",
       "    </tr>\n",
       "    <tr>\n",
       "      <th>Kagan</th>\n",
       "      <td>NaN</td>\n",
       "      <td>-2.97028</td>\n",
       "      <td>NaN</td>\n",
       "    </tr>\n",
       "    <tr>\n",
       "      <th>Ahmet</th>\n",
       "      <td>NaN</td>\n",
       "      <td>NaN</td>\n",
       "      <td>NaN</td>\n",
       "    </tr>\n",
       "    <tr>\n",
       "      <th>Hamdi</th>\n",
       "      <td>-10.749391</td>\n",
       "      <td>NaN</td>\n",
       "      <td>NaN</td>\n",
       "    </tr>\n",
       "  </tbody>\n",
       "</table>\n",
       "</div>"
      ],
      "text/plain": [
       "            Maas      Yas   Deneyim\n",
       "Osman  -1.507927      NaN -6.930549\n",
       "Kagan        NaN -2.97028       NaN\n",
       "Ahmet        NaN      NaN       NaN\n",
       "Hamdi -10.749391      NaN       NaN"
      ]
     },
     "execution_count": 56,
     "metadata": {},
     "output_type": "execute_result"
    }
   ],
   "source": [
    "detail_data_frame[detail_data_frame < 0]"
   ]
  },
  {
   "cell_type": "code",
   "execution_count": 57,
   "id": "573b9981",
   "metadata": {},
   "outputs": [
    {
     "data": {
      "text/html": [
       "<div>\n",
       "<style scoped>\n",
       "    .dataframe tbody tr th:only-of-type {\n",
       "        vertical-align: middle;\n",
       "    }\n",
       "\n",
       "    .dataframe tbody tr th {\n",
       "        vertical-align: top;\n",
       "    }\n",
       "\n",
       "    .dataframe thead th {\n",
       "        text-align: right;\n",
       "    }\n",
       "</style>\n",
       "<table border=\"1\" class=\"dataframe\">\n",
       "  <thead>\n",
       "    <tr style=\"text-align: right;\">\n",
       "      <th></th>\n",
       "      <th>Maas</th>\n",
       "      <th>Yas</th>\n",
       "      <th>Deneyim</th>\n",
       "    </tr>\n",
       "  </thead>\n",
       "  <tbody>\n",
       "    <tr>\n",
       "      <th>Osman</th>\n",
       "      <td>-1.507927</td>\n",
       "      <td>16.485902</td>\n",
       "      <td>-6.930549</td>\n",
       "    </tr>\n",
       "    <tr>\n",
       "      <th>Ahmet</th>\n",
       "      <td>4.979844</td>\n",
       "      <td>1.933933</td>\n",
       "      <td>5.464651</td>\n",
       "    </tr>\n",
       "    <tr>\n",
       "      <th>Hamdi</th>\n",
       "      <td>-10.749391</td>\n",
       "      <td>8.524701</td>\n",
       "      <td>7.284107</td>\n",
       "    </tr>\n",
       "  </tbody>\n",
       "</table>\n",
       "</div>"
      ],
      "text/plain": [
       "            Maas        Yas   Deneyim\n",
       "Osman  -1.507927  16.485902 -6.930549\n",
       "Ahmet   4.979844   1.933933  5.464651\n",
       "Hamdi -10.749391   8.524701  7.284107"
      ]
     },
     "execution_count": 57,
     "metadata": {},
     "output_type": "execute_result"
    }
   ],
   "source": [
    "detail_data_frame[detail_data_frame[\"Yas\"] > 0]"
   ]
  },
  {
   "cell_type": "markdown",
   "id": "ded4031c",
   "metadata": {},
   "source": [
    "## CHANGE INDEX"
   ]
  },
  {
   "cell_type": "code",
   "execution_count": 58,
   "id": "2ef58c65",
   "metadata": {},
   "outputs": [
    {
     "data": {
      "text/html": [
       "<div>\n",
       "<style scoped>\n",
       "    .dataframe tbody tr th:only-of-type {\n",
       "        vertical-align: middle;\n",
       "    }\n",
       "\n",
       "    .dataframe tbody tr th {\n",
       "        vertical-align: top;\n",
       "    }\n",
       "\n",
       "    .dataframe thead th {\n",
       "        text-align: right;\n",
       "    }\n",
       "</style>\n",
       "<table border=\"1\" class=\"dataframe\">\n",
       "  <thead>\n",
       "    <tr style=\"text-align: right;\">\n",
       "      <th></th>\n",
       "      <th>index</th>\n",
       "      <th>Maas</th>\n",
       "      <th>Yas</th>\n",
       "      <th>Deneyim</th>\n",
       "    </tr>\n",
       "  </thead>\n",
       "  <tbody>\n",
       "    <tr>\n",
       "      <th>0</th>\n",
       "      <td>Osman</td>\n",
       "      <td>-1.507927</td>\n",
       "      <td>16.485902</td>\n",
       "      <td>-6.930549</td>\n",
       "    </tr>\n",
       "    <tr>\n",
       "      <th>1</th>\n",
       "      <td>Kagan</td>\n",
       "      <td>2.730873</td>\n",
       "      <td>-2.970280</td>\n",
       "      <td>1.300038</td>\n",
       "    </tr>\n",
       "    <tr>\n",
       "      <th>2</th>\n",
       "      <td>Ahmet</td>\n",
       "      <td>4.979844</td>\n",
       "      <td>1.933933</td>\n",
       "      <td>5.464651</td>\n",
       "    </tr>\n",
       "    <tr>\n",
       "      <th>3</th>\n",
       "      <td>Hamdi</td>\n",
       "      <td>-10.749391</td>\n",
       "      <td>8.524701</td>\n",
       "      <td>7.284107</td>\n",
       "    </tr>\n",
       "  </tbody>\n",
       "</table>\n",
       "</div>"
      ],
      "text/plain": [
       "   index       Maas        Yas   Deneyim\n",
       "0  Osman  -1.507927  16.485902 -6.930549\n",
       "1  Kagan   2.730873  -2.970280  1.300038\n",
       "2  Ahmet   4.979844   1.933933  5.464651\n",
       "3  Hamdi -10.749391   8.524701  7.284107"
      ]
     },
     "execution_count": 58,
     "metadata": {},
     "output_type": "execute_result"
    }
   ],
   "source": [
    "detail_data_frame.reset_index()"
   ]
  },
  {
   "cell_type": "code",
   "execution_count": 60,
   "id": "8fb907b7",
   "metadata": {},
   "outputs": [],
   "source": [
    "new_index_list = [\"osm\", \"kag\", \"ahm\", \"ham\"]"
   ]
  },
  {
   "cell_type": "code",
   "execution_count": 61,
   "id": "640ad8c9",
   "metadata": {},
   "outputs": [],
   "source": [
    "detail_data_frame[\"Yeni Index\"] = new_index_list"
   ]
  },
  {
   "cell_type": "code",
   "execution_count": 66,
   "id": "c4f48a90",
   "metadata": {},
   "outputs": [
    {
     "data": {
      "text/html": [
       "<div>\n",
       "<style scoped>\n",
       "    .dataframe tbody tr th:only-of-type {\n",
       "        vertical-align: middle;\n",
       "    }\n",
       "\n",
       "    .dataframe tbody tr th {\n",
       "        vertical-align: top;\n",
       "    }\n",
       "\n",
       "    .dataframe thead th {\n",
       "        text-align: right;\n",
       "    }\n",
       "</style>\n",
       "<table border=\"1\" class=\"dataframe\">\n",
       "  <thead>\n",
       "    <tr style=\"text-align: right;\">\n",
       "      <th></th>\n",
       "      <th>Maas</th>\n",
       "      <th>Yas</th>\n",
       "      <th>Deneyim</th>\n",
       "      <th>Yeni Index</th>\n",
       "    </tr>\n",
       "  </thead>\n",
       "  <tbody>\n",
       "    <tr>\n",
       "      <th>Osman</th>\n",
       "      <td>-1.507927</td>\n",
       "      <td>16.485902</td>\n",
       "      <td>-6.930549</td>\n",
       "      <td>osm</td>\n",
       "    </tr>\n",
       "    <tr>\n",
       "      <th>Kagan</th>\n",
       "      <td>2.730873</td>\n",
       "      <td>-2.970280</td>\n",
       "      <td>1.300038</td>\n",
       "      <td>kag</td>\n",
       "    </tr>\n",
       "    <tr>\n",
       "      <th>Ahmet</th>\n",
       "      <td>4.979844</td>\n",
       "      <td>1.933933</td>\n",
       "      <td>5.464651</td>\n",
       "      <td>ahm</td>\n",
       "    </tr>\n",
       "    <tr>\n",
       "      <th>Hamdi</th>\n",
       "      <td>-10.749391</td>\n",
       "      <td>8.524701</td>\n",
       "      <td>7.284107</td>\n",
       "      <td>ham</td>\n",
       "    </tr>\n",
       "  </tbody>\n",
       "</table>\n",
       "</div>"
      ],
      "text/plain": [
       "            Maas        Yas   Deneyim Yeni Index\n",
       "Osman  -1.507927  16.485902 -6.930549        osm\n",
       "Kagan   2.730873  -2.970280  1.300038        kag\n",
       "Ahmet   4.979844   1.933933  5.464651        ahm\n",
       "Hamdi -10.749391   8.524701  7.284107        ham"
      ]
     },
     "execution_count": 66,
     "metadata": {},
     "output_type": "execute_result"
    }
   ],
   "source": [
    "detail_data_frame"
   ]
  },
  {
   "cell_type": "code",
   "execution_count": 69,
   "id": "c965fd97",
   "metadata": {},
   "outputs": [],
   "source": [
    "detail_data_frame.set_index(\"Yeni Index\",inplace=True)"
   ]
  },
  {
   "cell_type": "code",
   "execution_count": 70,
   "id": "045e7913",
   "metadata": {},
   "outputs": [
    {
     "data": {
      "text/html": [
       "<div>\n",
       "<style scoped>\n",
       "    .dataframe tbody tr th:only-of-type {\n",
       "        vertical-align: middle;\n",
       "    }\n",
       "\n",
       "    .dataframe tbody tr th {\n",
       "        vertical-align: top;\n",
       "    }\n",
       "\n",
       "    .dataframe thead th {\n",
       "        text-align: right;\n",
       "    }\n",
       "</style>\n",
       "<table border=\"1\" class=\"dataframe\">\n",
       "  <thead>\n",
       "    <tr style=\"text-align: right;\">\n",
       "      <th></th>\n",
       "      <th>Maas</th>\n",
       "      <th>Yas</th>\n",
       "      <th>Deneyim</th>\n",
       "    </tr>\n",
       "    <tr>\n",
       "      <th>Yeni Index</th>\n",
       "      <th></th>\n",
       "      <th></th>\n",
       "      <th></th>\n",
       "    </tr>\n",
       "  </thead>\n",
       "  <tbody>\n",
       "    <tr>\n",
       "      <th>osm</th>\n",
       "      <td>-1.507927</td>\n",
       "      <td>16.485902</td>\n",
       "      <td>-6.930549</td>\n",
       "    </tr>\n",
       "    <tr>\n",
       "      <th>kag</th>\n",
       "      <td>2.730873</td>\n",
       "      <td>-2.970280</td>\n",
       "      <td>1.300038</td>\n",
       "    </tr>\n",
       "    <tr>\n",
       "      <th>ahm</th>\n",
       "      <td>4.979844</td>\n",
       "      <td>1.933933</td>\n",
       "      <td>5.464651</td>\n",
       "    </tr>\n",
       "    <tr>\n",
       "      <th>ham</th>\n",
       "      <td>-10.749391</td>\n",
       "      <td>8.524701</td>\n",
       "      <td>7.284107</td>\n",
       "    </tr>\n",
       "  </tbody>\n",
       "</table>\n",
       "</div>"
      ],
      "text/plain": [
       "                 Maas        Yas   Deneyim\n",
       "Yeni Index                                \n",
       "osm         -1.507927  16.485902 -6.930549\n",
       "kag          2.730873  -2.970280  1.300038\n",
       "ahm          4.979844   1.933933  5.464651\n",
       "ham        -10.749391   8.524701  7.284107"
      ]
     },
     "execution_count": 70,
     "metadata": {},
     "output_type": "execute_result"
    }
   ],
   "source": [
    "detail_data_frame"
   ]
  },
  {
   "cell_type": "code",
   "execution_count": 73,
   "id": "ff013a0d",
   "metadata": {},
   "outputs": [
    {
     "data": {
      "text/plain": [
       "Maas       -1.507927\n",
       "Yas        16.485902\n",
       "Deneyim    -6.930549\n",
       "Name: osm, dtype: float64"
      ]
     },
     "execution_count": 73,
     "metadata": {},
     "output_type": "execute_result"
    }
   ],
   "source": [
    "detail_data_frame.loc[\"osm\"]"
   ]
  },
  {
   "cell_type": "markdown",
   "id": "2703f23e",
   "metadata": {},
   "source": [
    "## MULTI INDEXES"
   ]
  },
  {
   "cell_type": "code",
   "execution_count": 75,
   "id": "277731ad",
   "metadata": {},
   "outputs": [],
   "source": [
    "first_indexes = [\"Friends\", \"Friends\", \"Friends\", \"Friends\", \"Friends\", \"Friends\", \"HIMYM?\", \"HIMYM?\", \"HIMYM?\", \"HIMYM?\", \"HIMYM?\"]"
   ]
  },
  {
   "cell_type": "code",
   "execution_count": 76,
   "id": "471f96d1",
   "metadata": {},
   "outputs": [],
   "source": [
    "second_indexes = [\"Ross\", \"Rachel\", \"Phoebe\", \"Monica\", \"Chandler\", \"Joey\", \"Ted\", \"Barney\", \"Robin\", \"Lily\", \"Marshall\"]"
   ]
  },
  {
   "cell_type": "code",
   "execution_count": 77,
   "id": "6196700a",
   "metadata": {},
   "outputs": [],
   "source": [
    "zipped_indexes = list(zip(first_indexes, second_indexes))"
   ]
  },
  {
   "cell_type": "code",
   "execution_count": 78,
   "id": "0db018d2",
   "metadata": {},
   "outputs": [
    {
     "data": {
      "text/plain": [
       "[('Friends', 'Ross'),\n",
       " ('Friends', 'Rachel'),\n",
       " ('Friends', 'Phoebe'),\n",
       " ('Friends', 'Monica'),\n",
       " ('Friends', 'Chandler'),\n",
       " ('Friends', 'Joey'),\n",
       " ('HIMYM?', 'Ted'),\n",
       " ('HIMYM?', 'Barney'),\n",
       " ('HIMYM?', 'Robin'),\n",
       " ('HIMYM?', 'Lily'),\n",
       " ('HIMYM?', 'Marshall')]"
      ]
     },
     "execution_count": 78,
     "metadata": {},
     "output_type": "execute_result"
    }
   ],
   "source": [
    "zipped_indexes"
   ]
  },
  {
   "cell_type": "code",
   "execution_count": 80,
   "id": "095fa0d0",
   "metadata": {},
   "outputs": [],
   "source": [
    "zipped_indexes = pd.MultiIndex.from_tuples(zipped_indexes)"
   ]
  },
  {
   "cell_type": "code",
   "execution_count": 83,
   "id": "46912e19",
   "metadata": {},
   "outputs": [
    {
     "data": {
      "text/plain": [
       "pandas.core.indexes.multi.MultiIndex"
      ]
     },
     "execution_count": 83,
     "metadata": {},
     "output_type": "execute_result"
    }
   ],
   "source": [
    "type(zipped_indexes)"
   ]
  },
  {
   "cell_type": "code",
   "execution_count": 84,
   "id": "396941e9",
   "metadata": {},
   "outputs": [
    {
     "data": {
      "text/plain": [
       "MultiIndex([('Friends',     'Ross'),\n",
       "            ('Friends',   'Rachel'),\n",
       "            ('Friends',   'Phoebe'),\n",
       "            ('Friends',   'Monica'),\n",
       "            ('Friends', 'Chandler'),\n",
       "            ('Friends',     'Joey'),\n",
       "            ( 'HIMYM?',      'Ted'),\n",
       "            ( 'HIMYM?',   'Barney'),\n",
       "            ( 'HIMYM?',    'Robin'),\n",
       "            ( 'HIMYM?',     'Lily'),\n",
       "            ( 'HIMYM?', 'Marshall')],\n",
       "           )"
      ]
     },
     "execution_count": 84,
     "metadata": {},
     "output_type": "execute_result"
    }
   ],
   "source": [
    "zipped_indexes"
   ]
  },
  {
   "cell_type": "code",
   "execution_count": 90,
   "id": "5682080d",
   "metadata": {},
   "outputs": [],
   "source": [
    "my_series_list = [[31, \"A\"],[29, \"B\"],[32, \"C\"],[34, \"D\"],[28, \"E\"],[30, \"F\"],[26, \"G\"],[27, \"H\"],[29, \"J\"],[32, \"K\"],[30, \"L\" ]]"
   ]
  },
  {
   "cell_type": "code",
   "execution_count": 91,
   "id": "c08fd385",
   "metadata": {},
   "outputs": [
    {
     "data": {
      "text/plain": [
       "[[31, 'A'],\n",
       " [29, 'B'],\n",
       " [32, 'C'],\n",
       " [34, 'D'],\n",
       " [28, 'E'],\n",
       " [30, 'F'],\n",
       " [26, 'G'],\n",
       " [27, 'H'],\n",
       " [29, 'J'],\n",
       " [32, 'K'],\n",
       " [30, 'L']]"
      ]
     },
     "execution_count": 91,
     "metadata": {},
     "output_type": "execute_result"
    }
   ],
   "source": [
    "my_series_list"
   ]
  },
  {
   "cell_type": "code",
   "execution_count": 92,
   "id": "b995de9a",
   "metadata": {},
   "outputs": [],
   "source": [
    "my_series_numpy_list = np.array(my_series_list)"
   ]
  },
  {
   "cell_type": "code",
   "execution_count": 93,
   "id": "04c349c9",
   "metadata": {},
   "outputs": [
    {
     "data": {
      "text/plain": [
       "array([['31', 'A'],\n",
       "       ['29', 'B'],\n",
       "       ['32', 'C'],\n",
       "       ['34', 'D'],\n",
       "       ['28', 'E'],\n",
       "       ['30', 'F'],\n",
       "       ['26', 'G'],\n",
       "       ['27', 'H'],\n",
       "       ['29', 'J'],\n",
       "       ['32', 'K'],\n",
       "       ['30', 'L']], dtype='<U21')"
      ]
     },
     "execution_count": 93,
     "metadata": {},
     "output_type": "execute_result"
    }
   ],
   "source": [
    "my_series_numpy_list"
   ]
  },
  {
   "cell_type": "code",
   "execution_count": 98,
   "id": "ba279001",
   "metadata": {},
   "outputs": [],
   "source": [
    "my_series_data_frame = pd.DataFrame(my_series_numpy_list, index=zipped_indexes, columns=[\"Yas\", \"Meslek\"])"
   ]
  },
  {
   "cell_type": "code",
   "execution_count": 99,
   "id": "48aa66f3",
   "metadata": {},
   "outputs": [
    {
     "data": {
      "text/html": [
       "<div>\n",
       "<style scoped>\n",
       "    .dataframe tbody tr th:only-of-type {\n",
       "        vertical-align: middle;\n",
       "    }\n",
       "\n",
       "    .dataframe tbody tr th {\n",
       "        vertical-align: top;\n",
       "    }\n",
       "\n",
       "    .dataframe thead th {\n",
       "        text-align: right;\n",
       "    }\n",
       "</style>\n",
       "<table border=\"1\" class=\"dataframe\">\n",
       "  <thead>\n",
       "    <tr style=\"text-align: right;\">\n",
       "      <th></th>\n",
       "      <th></th>\n",
       "      <th>Yas</th>\n",
       "      <th>Meslek</th>\n",
       "    </tr>\n",
       "  </thead>\n",
       "  <tbody>\n",
       "    <tr>\n",
       "      <th rowspan=\"6\" valign=\"top\">Friends</th>\n",
       "      <th>Ross</th>\n",
       "      <td>31</td>\n",
       "      <td>A</td>\n",
       "    </tr>\n",
       "    <tr>\n",
       "      <th>Rachel</th>\n",
       "      <td>29</td>\n",
       "      <td>B</td>\n",
       "    </tr>\n",
       "    <tr>\n",
       "      <th>Phoebe</th>\n",
       "      <td>32</td>\n",
       "      <td>C</td>\n",
       "    </tr>\n",
       "    <tr>\n",
       "      <th>Monica</th>\n",
       "      <td>34</td>\n",
       "      <td>D</td>\n",
       "    </tr>\n",
       "    <tr>\n",
       "      <th>Chandler</th>\n",
       "      <td>28</td>\n",
       "      <td>E</td>\n",
       "    </tr>\n",
       "    <tr>\n",
       "      <th>Joey</th>\n",
       "      <td>30</td>\n",
       "      <td>F</td>\n",
       "    </tr>\n",
       "    <tr>\n",
       "      <th rowspan=\"5\" valign=\"top\">HIMYM?</th>\n",
       "      <th>Ted</th>\n",
       "      <td>26</td>\n",
       "      <td>G</td>\n",
       "    </tr>\n",
       "    <tr>\n",
       "      <th>Barney</th>\n",
       "      <td>27</td>\n",
       "      <td>H</td>\n",
       "    </tr>\n",
       "    <tr>\n",
       "      <th>Robin</th>\n",
       "      <td>29</td>\n",
       "      <td>J</td>\n",
       "    </tr>\n",
       "    <tr>\n",
       "      <th>Lily</th>\n",
       "      <td>32</td>\n",
       "      <td>K</td>\n",
       "    </tr>\n",
       "    <tr>\n",
       "      <th>Marshall</th>\n",
       "      <td>30</td>\n",
       "      <td>L</td>\n",
       "    </tr>\n",
       "  </tbody>\n",
       "</table>\n",
       "</div>"
      ],
      "text/plain": [
       "                 Yas Meslek\n",
       "Friends Ross      31      A\n",
       "        Rachel    29      B\n",
       "        Phoebe    32      C\n",
       "        Monica    34      D\n",
       "        Chandler  28      E\n",
       "        Joey      30      F\n",
       "HIMYM?  Ted       26      G\n",
       "        Barney    27      H\n",
       "        Robin     29      J\n",
       "        Lily      32      K\n",
       "        Marshall  30      L"
      ]
     },
     "execution_count": 99,
     "metadata": {},
     "output_type": "execute_result"
    }
   ],
   "source": [
    "my_series_data_frame"
   ]
  },
  {
   "cell_type": "code",
   "execution_count": 101,
   "id": "9148ef25",
   "metadata": {},
   "outputs": [
    {
     "data": {
      "text/html": [
       "<div>\n",
       "<style scoped>\n",
       "    .dataframe tbody tr th:only-of-type {\n",
       "        vertical-align: middle;\n",
       "    }\n",
       "\n",
       "    .dataframe tbody tr th {\n",
       "        vertical-align: top;\n",
       "    }\n",
       "\n",
       "    .dataframe thead th {\n",
       "        text-align: right;\n",
       "    }\n",
       "</style>\n",
       "<table border=\"1\" class=\"dataframe\">\n",
       "  <thead>\n",
       "    <tr style=\"text-align: right;\">\n",
       "      <th></th>\n",
       "      <th>Yas</th>\n",
       "      <th>Meslek</th>\n",
       "    </tr>\n",
       "  </thead>\n",
       "  <tbody>\n",
       "    <tr>\n",
       "      <th>Ross</th>\n",
       "      <td>31</td>\n",
       "      <td>A</td>\n",
       "    </tr>\n",
       "    <tr>\n",
       "      <th>Rachel</th>\n",
       "      <td>29</td>\n",
       "      <td>B</td>\n",
       "    </tr>\n",
       "    <tr>\n",
       "      <th>Phoebe</th>\n",
       "      <td>32</td>\n",
       "      <td>C</td>\n",
       "    </tr>\n",
       "    <tr>\n",
       "      <th>Monica</th>\n",
       "      <td>34</td>\n",
       "      <td>D</td>\n",
       "    </tr>\n",
       "    <tr>\n",
       "      <th>Chandler</th>\n",
       "      <td>28</td>\n",
       "      <td>E</td>\n",
       "    </tr>\n",
       "    <tr>\n",
       "      <th>Joey</th>\n",
       "      <td>30</td>\n",
       "      <td>F</td>\n",
       "    </tr>\n",
       "  </tbody>\n",
       "</table>\n",
       "</div>"
      ],
      "text/plain": [
       "         Yas Meslek\n",
       "Ross      31      A\n",
       "Rachel    29      B\n",
       "Phoebe    32      C\n",
       "Monica    34      D\n",
       "Chandler  28      E\n",
       "Joey      30      F"
      ]
     },
     "execution_count": 101,
     "metadata": {},
     "output_type": "execute_result"
    }
   ],
   "source": [
    "my_series_data_frame.loc[\"Friends\"]"
   ]
  },
  {
   "cell_type": "code",
   "execution_count": 102,
   "id": "e7f18b1e",
   "metadata": {},
   "outputs": [
    {
     "data": {
      "text/html": [
       "<div>\n",
       "<style scoped>\n",
       "    .dataframe tbody tr th:only-of-type {\n",
       "        vertical-align: middle;\n",
       "    }\n",
       "\n",
       "    .dataframe tbody tr th {\n",
       "        vertical-align: top;\n",
       "    }\n",
       "\n",
       "    .dataframe thead th {\n",
       "        text-align: right;\n",
       "    }\n",
       "</style>\n",
       "<table border=\"1\" class=\"dataframe\">\n",
       "  <thead>\n",
       "    <tr style=\"text-align: right;\">\n",
       "      <th></th>\n",
       "      <th>Yas</th>\n",
       "      <th>Meslek</th>\n",
       "    </tr>\n",
       "  </thead>\n",
       "  <tbody>\n",
       "    <tr>\n",
       "      <th>Ted</th>\n",
       "      <td>26</td>\n",
       "      <td>G</td>\n",
       "    </tr>\n",
       "    <tr>\n",
       "      <th>Barney</th>\n",
       "      <td>27</td>\n",
       "      <td>H</td>\n",
       "    </tr>\n",
       "    <tr>\n",
       "      <th>Robin</th>\n",
       "      <td>29</td>\n",
       "      <td>J</td>\n",
       "    </tr>\n",
       "    <tr>\n",
       "      <th>Lily</th>\n",
       "      <td>32</td>\n",
       "      <td>K</td>\n",
       "    </tr>\n",
       "    <tr>\n",
       "      <th>Marshall</th>\n",
       "      <td>30</td>\n",
       "      <td>L</td>\n",
       "    </tr>\n",
       "  </tbody>\n",
       "</table>\n",
       "</div>"
      ],
      "text/plain": [
       "         Yas Meslek\n",
       "Ted       26      G\n",
       "Barney    27      H\n",
       "Robin     29      J\n",
       "Lily      32      K\n",
       "Marshall  30      L"
      ]
     },
     "execution_count": 102,
     "metadata": {},
     "output_type": "execute_result"
    }
   ],
   "source": [
    "my_series_data_frame.loc[\"HIMYM?\"]"
   ]
  },
  {
   "cell_type": "code",
   "execution_count": 103,
   "id": "09d1f94d",
   "metadata": {},
   "outputs": [
    {
     "data": {
      "text/plain": [
       "Yas       26\n",
       "Meslek     G\n",
       "Name: Ted, dtype: object"
      ]
     },
     "execution_count": 103,
     "metadata": {},
     "output_type": "execute_result"
    }
   ],
   "source": [
    "my_series_data_frame.loc[\"HIMYM?\"].loc[\"Ted\"]"
   ]
  },
  {
   "cell_type": "code",
   "execution_count": 104,
   "id": "f4eaf653",
   "metadata": {},
   "outputs": [],
   "source": [
    "my_series_data_frame.index.names = [\"Dizi Adı\", \"Karakter Adı\"]"
   ]
  },
  {
   "cell_type": "code",
   "execution_count": 105,
   "id": "5865247b",
   "metadata": {},
   "outputs": [
    {
     "data": {
      "text/html": [
       "<div>\n",
       "<style scoped>\n",
       "    .dataframe tbody tr th:only-of-type {\n",
       "        vertical-align: middle;\n",
       "    }\n",
       "\n",
       "    .dataframe tbody tr th {\n",
       "        vertical-align: top;\n",
       "    }\n",
       "\n",
       "    .dataframe thead th {\n",
       "        text-align: right;\n",
       "    }\n",
       "</style>\n",
       "<table border=\"1\" class=\"dataframe\">\n",
       "  <thead>\n",
       "    <tr style=\"text-align: right;\">\n",
       "      <th></th>\n",
       "      <th></th>\n",
       "      <th>Yas</th>\n",
       "      <th>Meslek</th>\n",
       "    </tr>\n",
       "    <tr>\n",
       "      <th>Dizi Adı</th>\n",
       "      <th>Karakter Adı</th>\n",
       "      <th></th>\n",
       "      <th></th>\n",
       "    </tr>\n",
       "  </thead>\n",
       "  <tbody>\n",
       "    <tr>\n",
       "      <th rowspan=\"6\" valign=\"top\">Friends</th>\n",
       "      <th>Ross</th>\n",
       "      <td>31</td>\n",
       "      <td>A</td>\n",
       "    </tr>\n",
       "    <tr>\n",
       "      <th>Rachel</th>\n",
       "      <td>29</td>\n",
       "      <td>B</td>\n",
       "    </tr>\n",
       "    <tr>\n",
       "      <th>Phoebe</th>\n",
       "      <td>32</td>\n",
       "      <td>C</td>\n",
       "    </tr>\n",
       "    <tr>\n",
       "      <th>Monica</th>\n",
       "      <td>34</td>\n",
       "      <td>D</td>\n",
       "    </tr>\n",
       "    <tr>\n",
       "      <th>Chandler</th>\n",
       "      <td>28</td>\n",
       "      <td>E</td>\n",
       "    </tr>\n",
       "    <tr>\n",
       "      <th>Joey</th>\n",
       "      <td>30</td>\n",
       "      <td>F</td>\n",
       "    </tr>\n",
       "    <tr>\n",
       "      <th rowspan=\"5\" valign=\"top\">HIMYM?</th>\n",
       "      <th>Ted</th>\n",
       "      <td>26</td>\n",
       "      <td>G</td>\n",
       "    </tr>\n",
       "    <tr>\n",
       "      <th>Barney</th>\n",
       "      <td>27</td>\n",
       "      <td>H</td>\n",
       "    </tr>\n",
       "    <tr>\n",
       "      <th>Robin</th>\n",
       "      <td>29</td>\n",
       "      <td>J</td>\n",
       "    </tr>\n",
       "    <tr>\n",
       "      <th>Lily</th>\n",
       "      <td>32</td>\n",
       "      <td>K</td>\n",
       "    </tr>\n",
       "    <tr>\n",
       "      <th>Marshall</th>\n",
       "      <td>30</td>\n",
       "      <td>L</td>\n",
       "    </tr>\n",
       "  </tbody>\n",
       "</table>\n",
       "</div>"
      ],
      "text/plain": [
       "                      Yas Meslek\n",
       "Dizi Adı Karakter Adı           \n",
       "Friends  Ross          31      A\n",
       "         Rachel        29      B\n",
       "         Phoebe        32      C\n",
       "         Monica        34      D\n",
       "         Chandler      28      E\n",
       "         Joey          30      F\n",
       "HIMYM?   Ted           26      G\n",
       "         Barney        27      H\n",
       "         Robin         29      J\n",
       "         Lily          32      K\n",
       "         Marshall      30      L"
      ]
     },
     "execution_count": 105,
     "metadata": {},
     "output_type": "execute_result"
    }
   ],
   "source": [
    "my_series_data_frame"
   ]
  }
 ],
 "metadata": {
  "kernelspec": {
   "display_name": "Python 3 (ipykernel)",
   "language": "python",
   "name": "python3"
  },
  "language_info": {
   "codemirror_mode": {
    "name": "ipython",
    "version": 3
   },
   "file_extension": ".py",
   "mimetype": "text/x-python",
   "name": "python",
   "nbconvert_exporter": "python",
   "pygments_lexer": "ipython3",
   "version": "3.11.4"
  }
 },
 "nbformat": 4,
 "nbformat_minor": 5
}
